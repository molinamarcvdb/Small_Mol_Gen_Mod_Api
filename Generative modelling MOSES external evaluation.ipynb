{
 "cells": [
  {
   "cell_type": "code",
   "execution_count": 2,
   "id": "95709642",
   "metadata": {},
   "outputs": [
    {
     "name": "stderr",
     "output_type": "stream",
     "text": [
      "/home/marc/anaconda3/envs/imageDL/lib/python3.8/site-packages/moses/metrics/utils.py:24: FutureWarning: The frame.append method is deprecated and will be removed from pandas in a future version. Use pandas.concat instead.\n",
      "  _mcf.append(_pains, sort=True)['smarts'].values]\n"
     ]
    }
   ],
   "source": [
    "import moses\n",
    "import selfies as sf\n",
    "import os\n",
    "import numpy as np\n",
    "from transformers import AutoTokenizer, AutoModelForSeq2SeqLM\n",
    "from rdkit import Chem\n",
    "from tqdm import tqdm\n",
    "from moses import CharVocab, StringDataset\n",
    "\n",
    "tokenizer = AutoTokenizer.from_pretrained(\"zjunlp/MolGen-large-opt\")\n",
    "model = AutoModelForSeq2SeqLM.from_pretrained(\"zjunlp/MolGen-large-opt\")\n",
    "\n",
    "test = moses.get_dataset('test')\n",
    "vocab = CharVocab.from_data(test)\n",
    "\n",
    "if not os.path.exists('results'): os.mkdir('results')\n",
    "\n",
    "def external_evaluation(testDataset):\n",
    "    # Evaluation with external dataset\n",
    "    new_mol = []\n",
    "    for i, mol in tqdm(enumerate(testDataset)):\n",
    "        sf_input = tokenizer(sf.encoder(mol), return_tensors=\"pt\")\n",
    "        # beam search\n",
    "        molecules = model.generate(input_ids=sf_input[\"input_ids\"],\n",
    "                                      attention_mask=sf_input[\"attention_mask\"],\n",
    "                                      max_length=65,\n",
    "                                      min_length=5,\n",
    "                                      num_return_sequences=10,\n",
    "                                      num_beams=20)\n",
    "        sf_output = [sf.decoder(tokenizer.decode(g, skip_special_tokens=True, clean_up_tokenization_spaces=True).replace(\" \",\"\")) for g in molecules]\n",
    "        np.save(f'results/smiles_{i}.npy', np.array(sf_output))\n",
    "    \n",
    "    \n",
    "\n",
    "external_evaluation(test[50000:])"
   ]
  },
  {
   "cell_type": "code",
   "execution_count": 15,
   "id": "38dcbce5",
   "metadata": {},
   "outputs": [
    {
     "data": {
      "text/html": [
       "<div>\n",
       "<style scoped>\n",
       "    .dataframe tbody tr th:only-of-type {\n",
       "        vertical-align: middle;\n",
       "    }\n",
       "\n",
       "    .dataframe tbody tr th {\n",
       "        vertical-align: top;\n",
       "    }\n",
       "\n",
       "    .dataframe thead th {\n",
       "        text-align: right;\n",
       "    }\n",
       "</style>\n",
       "<table border=\"1\" class=\"dataframe\">\n",
       "  <thead>\n",
       "    <tr style=\"text-align: right;\">\n",
       "      <th></th>\n",
       "      <th>valid</th>\n",
       "      <th>unique@1000</th>\n",
       "      <th>unique@10000</th>\n",
       "      <th>FCD/Test</th>\n",
       "      <th>SNN/Test</th>\n",
       "      <th>Frag/Test</th>\n",
       "      <th>Scaf/Test</th>\n",
       "      <th>FCD/TestSF</th>\n",
       "      <th>SNN/TestSF</th>\n",
       "      <th>Frag/TestSF</th>\n",
       "      <th>Scaf/TestSF</th>\n",
       "      <th>IntDiv</th>\n",
       "      <th>IntDiv2</th>\n",
       "      <th>Filters</th>\n",
       "      <th>logP</th>\n",
       "      <th>SA</th>\n",
       "      <th>QED</th>\n",
       "      <th>weight</th>\n",
       "      <th>Novelty</th>\n",
       "    </tr>\n",
       "  </thead>\n",
       "  <tbody>\n",
       "    <tr>\n",
       "      <th>results</th>\n",
       "      <td>1.0</td>\n",
       "      <td>0.919</td>\n",
       "      <td>0.9029</td>\n",
       "      <td>3.568158</td>\n",
       "      <td>0.634007</td>\n",
       "      <td>0.98392</td>\n",
       "      <td>0.941199</td>\n",
       "      <td>5.516483</td>\n",
       "      <td>0.46951</td>\n",
       "      <td>0.980654</td>\n",
       "      <td>0.012345</td>\n",
       "      <td>0.874747</td>\n",
       "      <td>0.867003</td>\n",
       "      <td>0.872051</td>\n",
       "      <td>0.64762</td>\n",
       "      <td>0.479579</td>\n",
       "      <td>0.106772</td>\n",
       "      <td>32.440149</td>\n",
       "      <td>0.971243</td>\n",
       "    </tr>\n",
       "  </tbody>\n",
       "</table>\n",
       "</div>"
      ],
      "text/plain": [
       "         valid  unique@1000  unique@10000  FCD/Test  SNN/Test  Frag/Test  \\\n",
       "results    1.0        0.919        0.9029  3.568158  0.634007    0.98392   \n",
       "\n",
       "         Scaf/Test  FCD/TestSF  SNN/TestSF  Frag/TestSF  Scaf/TestSF  \\\n",
       "results   0.941199    5.516483     0.46951     0.980654     0.012345   \n",
       "\n",
       "           IntDiv   IntDiv2   Filters     logP        SA       QED     weight  \\\n",
       "results  0.874747  0.867003  0.872051  0.64762  0.479579  0.106772  32.440149   \n",
       "\n",
       "          Novelty  \n",
       "results  0.971243  "
      ]
     },
     "execution_count": 15,
     "metadata": {},
     "output_type": "execute_result"
    }
   ],
   "source": [
    "generated_smiles = np.array([np.load('results/'+smile) for smile in os.listdir('results/')]).ravel()\n",
    "\n",
    "df =pd.DataFrame(moses.get_all_metrics(generated_smiles, test =test[50000:50000+len(os.listdir('results/'))]), index = ['results'])\n",
    "df"
   ]
  }
 ],
 "metadata": {
  "kernelspec": {
   "display_name": "Python [conda env:imageDL] *",
   "language": "python",
   "name": "conda-env-imageDL-py"
  },
  "language_info": {
   "codemirror_mode": {
    "name": "ipython",
    "version": 3
   },
   "file_extension": ".py",
   "mimetype": "text/x-python",
   "name": "python",
   "nbconvert_exporter": "python",
   "pygments_lexer": "ipython3",
   "version": "3.8.16"
  }
 },
 "nbformat": 4,
 "nbformat_minor": 5
}
